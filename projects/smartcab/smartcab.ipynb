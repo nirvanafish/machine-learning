{
 "cells": [
  {
   "cell_type": "markdown",
   "metadata": {},
   "source": [
    "## smartcab project\n"
   ]
  },
  {
   "cell_type": "markdown",
   "metadata": {},
   "source": [
    "### Implement a Basic Driving Agent\n",
    "\n",
    "To begin, your only task is to get the **smartcab** to move around in the enviro\n",
    "nment. At this point, you will not be concerned with any sort of optimal driving\n",
    " policy. Note that the driving agent is given the following information at each \n",
    "intersection:\n",
    "- The next waypoint location relative to its current location and heading.\n",
    "- The state of the traffic light at the intersection and the presence of oncomin\n",
    "g vehicles from other directions.\n",
    "- The current time left from the allotted deadline.\n",
    "\n",
    "To complete this task, simply have your driving agent choose a random action fro\n",
    "m the set of possible actions (`None`, `'forward'`, `'left'`, `'right'`) at each\n",
    " intersection, disregarding the input information above. Set the simulation dead\n",
    "line enforcement, `enforce_deadline` to `False` and observe how it performs.\n"
   ]
  },
  {
   "cell_type": "code",
   "execution_count": 13,
   "metadata": {
    "collapsed": false
   },
   "outputs": [],
   "source": [
    "import random\n",
    "from smartcab.environment import Agent, Environment\n",
    "from smartcab.planner import RoutePlanner\n",
    "from smartcab.simulator import Simulator\n",
    "from smartcab.agent import LearningAgent\n",
    "from collections import OrderedDict\n",
    "import numpy as np"
   ]
  },
  {
   "cell_type": "code",
   "execution_count": 14,
   "metadata": {
    "collapsed": false
   },
   "outputs": [
    {
     "data": {
      "text/plain": [
       "[None, 'forward', 'left', 'right']"
      ]
     },
     "execution_count": 14,
     "metadata": {},
     "output_type": "execute_result"
    }
   ],
   "source": [
    "e = Environment()\n",
    "a = e.create_agent(LearningAgent)\n",
    "a.env.valid_actions"
   ]
  },
  {
   "cell_type": "code",
   "execution_count": 20,
   "metadata": {
    "collapsed": false
   },
   "outputs": [
    {
     "data": {
      "text/plain": [
       "'left'"
      ]
     },
     "execution_count": 20,
     "metadata": {},
     "output_type": "execute_result"
    }
   ],
   "source": [
    "a.env.valid_actions[np.random.randint(3)]  # choose a random action"
   ]
  },
  {
   "cell_type": "markdown",
   "metadata": {},
   "source": [
    "***QUESTION:*** _Observe what you see with the agent's behavior as it takes random actions. Does the **smartcab** eventually make it to the destination? Are there any other interesting observations to note?_"
   ]
  },
  {
   "cell_type": "markdown",
   "metadata": {},
   "source": [
    "With a random walk, in 100 trials, about half of the smartcab have reached the destination within the hard time limit(100), but not within the deadline. This observation may depend on our route planner which always point to the final destination, and simple grid network(8*6)."
   ]
  },
  {
   "cell_type": "markdown",
   "metadata": {},
   "source": [
    "### Inform the Driving Agent\n",
    "\n",
    "Now that your driving agent is capable of moving around in the environment, your next task is to identify a set of states that are appropriate for modeling the **smartcab** and environment. The main source of state variables are the current inputs at the intersection, but not all may require representation. You may choose to explicitly define states, or use some combination of inputs as an implicit state. At each time step, process the inputs and update the agent's current state using the `self.state` variable. Continue with the simulation deadline enforcement `enforce_deadline` being set to `False`, and observe how your driving agent now reports the change in state as the simulation progresses.\n",
    "\n"
   ]
  },
  {
   "cell_type": "code",
   "execution_count": 26,
   "metadata": {
    "collapsed": false
   },
   "outputs": [
    {
     "data": {
      "text/plain": [
       "{'heading': (0, 1), 'location': (8, 3)}"
      ]
     },
     "execution_count": 26,
     "metadata": {},
     "output_type": "execute_result"
    }
   ],
   "source": [
    "a.env.agent_states[a]"
   ]
  },
  {
   "cell_type": "markdown",
   "metadata": {},
   "source": [
    "***QUESTION:*** _What states have you identified that are appropriate for modeli\n",
    "ng the **smartcab** and environment? Why do you believe each of these states to \n",
    "be appropriate for this problem?_\n"
   ]
  },
  {
   "cell_type": "markdown",
   "metadata": {},
   "source": [
    "***OPTIONAL:*** _How many states in total exist for the **smartcab** in this env\n",
    "ironment? Does this number seem reasonable given that the goal of Q-Learning is \n",
    "to learn and make informed decisions about each state? Why or why not?_\n"
   ]
  },
  {
   "cell_type": "markdown",
   "metadata": {},
   "source": [
    "### Implement a Q-Learning Driving Agent\n",
    "\n",
    "With your driving agent being capable of interpreting the input information and \n",
    "having a mapping of environmental states, your next task is to implement the Q-L\n",
    "earning algorithm for your driving agent to choose the *best* action at each tim\n",
    "e step, based on the Q-values for the current state and action. Each action take\n",
    "n by the **smartcab** will produce a reward which depends on the state of the en\n",
    "vironment. The Q-Learning driving agent will need to consider these rewards when\n",
    " updating the Q-values. Once implemented, set the simulation deadline enforcemen\n",
    "t `enforce_deadline` to `True`. Run the simulation and observe how the **smartca\n",
    "b** moves about the environment in each trial.\n",
    "\n",
    "The formulas for updating Q-values can be found in [this](https://classroom.udac\n",
    "ity.com/nanodegrees/nd009/parts/0091345409/modules/e64f9a65-fdb5-4e60-81a9-72813\n",
    "beebb7e/lessons/5446820041/concepts/6348990570923) video.\n"
   ]
  },
  {
   "cell_type": "markdown",
   "metadata": {},
   "source": [
    "***QUESTION:*** _What changes do you notice in the agent's behavior when compare\n",
    "d to the basic driving agent when random actions were always taken? Why is this \n",
    "behavior occurring?_\n"
   ]
  },
  {
   "cell_type": "markdown",
   "metadata": {},
   "source": [
    "### Improve the Q-Learning Driving Agent\n",
    "\n",
    "Your final task for this project is to enhance your driving agent so that, after\n",
    " sufficient training, the **smartcab** is able to reach the destination within t\n",
    "he allotted time safely and efficiently. Parameters in the Q-Learning algorithm,\n",
    " such as the learning rate (`alpha`), the discount factor (`gamma`) and the expl\n",
    "oration rate (`epsilon`) all contribute to the driving agent?s ability to learn \n",
    "the best action for each state. To improve on the success of your **smartcab**:\n",
    "- Set the number of trials, `n_trials`, in the simulation to 100.\n",
    "- Run the simulation with the deadline enforcement `enforce_deadline` set to `Tr\n",
    "ue` (you will need to reduce the update delay `update_delay` and set the `displa\n",
    "y` to `False`).\n",
    "- Observe the driving agent?s learning and **smartcab?s** success rate, particul\n",
    "arly during the later trials.\n",
    "- Adjust one or several of the above parameters and iterate this process.\n",
    "\n",
    "This task is complete once you have arrived at what you determine is the best co\n",
    "mbination of parameters required for your driving agent to learn successfully. \n"
   ]
  },
  {
   "cell_type": "markdown",
   "metadata": {},
   "source": [
    "***QUESTION:*** _Report the different values for the parameters tuned in your ba\n",
    "sic implementation of Q-Learning. For which set of parameters does the agent per\n",
    "form best? How well does the final driving agent perform?_\n"
   ]
  },
  {
   "cell_type": "markdown",
   "metadata": {},
   "source": [
    "***QUESTION:*** _Does your agent get close to finding an optimal policy, i.e. re\n",
    "ach the destination in the minimum possible time, and not incur any penalties? H\n",
    "ow would you describe an optimal policy for this problem?_"
   ]
  },
  {
   "cell_type": "code",
   "execution_count": null,
   "metadata": {
    "collapsed": true
   },
   "outputs": [],
   "source": []
  }
 ],
 "metadata": {
  "kernelspec": {
   "display_name": "Python 2",
   "language": "python",
   "name": "python2"
  },
  "language_info": {
   "codemirror_mode": {
    "name": "ipython",
    "version": 2
   },
   "file_extension": ".py",
   "mimetype": "text/x-python",
   "name": "python",
   "nbconvert_exporter": "python",
   "pygments_lexer": "ipython2",
   "version": "2.7.11"
  }
 },
 "nbformat": 4,
 "nbformat_minor": 0
}
